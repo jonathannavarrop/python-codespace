{
 "cells": [
  {
   "cell_type": "code",
   "execution_count": 2,
   "metadata": {},
   "outputs": [],
   "source": [
    "# imports\n",
    "import pandas as pd\n",
    "from tqdm.notebook import tqdm_notebook\n",
    "\n",
    "# import library\n",
    "import test_library as LIB\n",
    "\n",
    "# import config\n",
    "import yaml\n",
    "config = yaml.safe_load(open('test_config.yaml'))"
   ]
  },
  {
   "cell_type": "code",
   "execution_count": 3,
   "metadata": {},
   "outputs": [],
   "source": [
    "# define url to parse\n",
    "url = 'http://ufcstats.com/fighter-details/54f64b5e283b0ce7'"
   ]
  },
  {
   "cell_type": "markdown",
   "metadata": {},
   "source": [
    "## Parse Event Details\n",
    "Includes: Event | URL | Date | Location"
   ]
  },
  {
   "cell_type": "code",
   "execution_count": 9,
   "metadata": {},
   "outputs": [
    {
     "data": {
      "text/plain": [
       "['SLpM:4.40',\n",
       " 'Str. Acc.:46%',\n",
       " 'SApM:3.35',\n",
       " 'Str. Def:65%',\n",
       " '',\n",
       " 'TD Avg.:1.92',\n",
       " 'TD Acc.:56%',\n",
       " 'TD Def.:92%',\n",
       " 'Sub. Avg.:1.3']"
      ]
     },
     "metadata": {},
     "output_type": "display_data"
    },
    {
     "name": "stdout",
     "output_type": "stream",
     "text": [
      "['4.40', '46%', '3.35', '65%', '1.92', '56%', '92%', '1.3']\n"
     ]
    }
   ],
   "source": [
    "# get soup\n",
    "soup = LIB.get_soup(url)\n",
    "\n",
    "# parse event details\n",
    "all_stats_df = LIB.parse_fighter_stats(soup)\n",
    "\n",
    "# Limpiar cada elemento en la lista\n",
    "clean_stats = [text.split(':')[-1].strip() for text in all_stats_df if ':' in text]\n",
    "\n",
    "# Mostrar el dataframe original\n",
    "display(all_stats_df)\n",
    "\n",
    "# Mostrar el resultado limpio\n",
    "print(clean_stats)"
   ]
  }
 ],
 "metadata": {
  "kernelspec": {
   "display_name": ".venv",
   "language": "python",
   "name": "python3"
  },
  "language_info": {
   "codemirror_mode": {
    "name": "ipython",
    "version": 3
   },
   "file_extension": ".py",
   "mimetype": "text/x-python",
   "name": "python",
   "nbconvert_exporter": "python",
   "pygments_lexer": "ipython3",
   "version": "3.11.9"
  }
 },
 "nbformat": 4,
 "nbformat_minor": 2
}
