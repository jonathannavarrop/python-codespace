{
 "cells": [
  {
   "cell_type": "code",
   "execution_count": null,
   "metadata": {},
   "outputs": [],
   "source": [
    "'''\n",
    "Overview\n",
    "this notebook parses all past ufc fight stats when run, it does not include upcoming fights\n",
    "\n",
    "\n",
    "scrape ufc fight stats\n",
    "get all event details, name, url, date, location for all ufc events\n",
    "for each event, get fight details all fights on card\n",
    "parse each fight to get fight stats of both fighters\n",
    "'''\n"
   ]
  },
  {
   "cell_type": "code",
   "execution_count": null,
   "metadata": {},
   "outputs": [],
   "source": [
    "# imports\n",
    "import pandas as pd\n",
    "from tqdm.notebook import tqdm_notebook\n",
    "\n",
    "# import library\n",
    "import scrape_ufc_stats_library as LIB\n",
    "\n",
    "# import config\n",
    "import yaml\n",
    "config = yaml.safe_load(open('scrape_ufc_stats_config.yaml'))"
   ]
  },
  {
   "cell_type": "markdown",
   "metadata": {},
   "source": [
    "Parse Event Details\n",
    "Includes:\n",
    "Event\n",
    "URL\n",
    "Date\n",
    "Location"
   ]
  },
  {
   "cell_type": "code",
   "execution_count": null,
   "metadata": {},
   "outputs": [],
   "source": [
    "# define url to parse\n",
    "events_url = config['completed_events_all_url']"
   ]
  },
  {
   "cell_type": "code",
   "execution_count": null,
   "metadata": {},
   "outputs": [],
   "source": [
    "# get soup\n",
    "soup = LIB.get_soup(events_url)\n",
    "\n",
    "# parse event details\n",
    "all_event_details_df = LIB.parse_event_details(soup)\n",
    "\n",
    "# show event details\n",
    "display(all_event_details_df)\n",
    "\n",
    "# write event details to file\n",
    "all_event_details_df.to_csv(config['event_details_file_name'], index=False)"
   ]
  },
  {
   "cell_type": "markdown",
   "metadata": {},
   "source": [
    "Parse Fight Details\n",
    "Includes:\n",
    "Event\n",
    "Bout\n",
    "URL"
   ]
  },
  {
   "cell_type": "code",
   "execution_count": null,
   "metadata": {},
   "outputs": [],
   "source": [
    "# define list of urls of fights to parse\n",
    "list_of_events_urls = list(all_event_details_df['URL'])"
   ]
  },
  {
   "cell_type": "code",
   "execution_count": null,
   "metadata": {},
   "outputs": [],
   "source": [
    "# create empty df to store fight details\n",
    "all_fight_details_df = pd.DataFrame(columns=config['fight_details_column_names'])\n",
    "\n",
    "# loop through each event and parse fight details\n",
    "for url in tqdm_notebook(list_of_events_urls):\n",
    "\n",
    "    # get soup\n",
    "    soup = LIB.get_soup(url)\n",
    "\n",
    "    # parse fight links\n",
    "    fight_details_df = LIB.parse_fight_details(soup)\n",
    "    \n",
    "    # concat fight details\n",
    "    all_fight_details_df = pd.concat([all_fight_details_df, fight_details_df])\n",
    "\n",
    "# show all fight details\n",
    "display(all_fight_details_df)\n",
    "\n",
    "# write fight details to file\n",
    "all_fight_details_df.to_csv(config['fight_details_file_name'], index=False)"
   ]
  },
  {
   "cell_type": "markdown",
   "metadata": {},
   "source": [
    "Parse Fight Results and Fight Stats\n",
    "Fight Results Includes:\n",
    "Event\n",
    "Bout\n",
    "Weightclass\n",
    "Method\n",
    "Round\n",
    "Time\n",
    "Time Format\n",
    "Referee\n",
    "Details\n",
    "\n",
    "Fight Stats Includes:\n",
    "Event\n",
    "Bout\n",
    "Round\n",
    "Fighter\n",
    "Kd\n",
    "Sig.Str.\n",
    "Sig.Str. %\n",
    "Total Str.\n",
    "Td\n",
    "Td %\n",
    "Sub.Att\n",
    "Rev.\n",
    "Ctrl\n",
    "Head\n",
    "Body\n",
    "Leg\n",
    "Distance\n",
    "Clinch\n",
    "Ground"
   ]
  },
  {
   "cell_type": "code",
   "execution_count": null,
   "metadata": {},
   "outputs": [],
   "source": [
    "# define list of urls of fights to parse\n",
    "list_of_fight_details_urls = list(all_fight_details_df['URL'])"
   ]
  },
  {
   "cell_type": "code",
   "execution_count": null,
   "metadata": {},
   "outputs": [],
   "source": [
    "# create empty df to store fight results\n",
    "all_fight_results_df = pd.DataFrame(columns=config['fight_results_column_names'])\n",
    "# create empty df to store fight stats\n",
    "all_fight_stats_df = pd.DataFrame(columns=config['fight_stats_column_names'])\n",
    "\n",
    "# loop through each fight and parse fight results and stats\n",
    "for url in tqdm_notebook(list_of_fight_details_urls):\n",
    "\n",
    "    # get soup\n",
    "    soup = LIB.get_soup(url)\n",
    "\n",
    "    # parse fight results and fight stats\n",
    "    fight_results_df, fight_stats_df = LIB.parse_organise_fight_results_and_stats(\n",
    "        soup,\n",
    "        url,\n",
    "        config['fight_results_column_names'],\n",
    "        config['totals_column_names'],\n",
    "        config['significant_strikes_column_names']\n",
    "        )\n",
    "\n",
    "    # concat fight results\n",
    "    all_fight_results_df = pd.concat([all_fight_results_df, fight_results_df])\n",
    "    # concat fight stats\n",
    "    all_fight_stats_df = pd.concat([all_fight_stats_df, fight_stats_df])\n",
    "\n",
    "# show all fight results\n",
    "display(all_fight_results_df)\n",
    "# show all fight stats\n",
    "display(all_fight_stats_df)\n",
    "\n",
    "# write to file\n",
    "all_fight_results_df.to_csv(config['fight_results_file_name'], index=False)\n",
    "# write to file\n",
    "all_fight_stats_df.to_csv(config['fight_stats_file_name'], index=False)"
   ]
  }
 ],
 "metadata": {
  "kernelspec": {
   "display_name": ".venv",
   "language": "python",
   "name": "python3"
  },
  "language_info": {
   "codemirror_mode": {
    "name": "ipython",
    "version": 3
   },
   "file_extension": ".py",
   "mimetype": "text/x-python",
   "name": "python",
   "nbconvert_exporter": "python",
   "pygments_lexer": "ipython3",
   "version": "3.11.9"
  }
 },
 "nbformat": 4,
 "nbformat_minor": 2
}
